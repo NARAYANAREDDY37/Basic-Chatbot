{
  "nbformat": 4,
  "nbformat_minor": 0,
  "metadata": {
    "colab": {
      "name": "Basic chatbot using trained conversations.ipynb",
      "provenance": [],
      "authorship_tag": "ABX9TyOBM+xBuetxJAZVQ05l/sDw",
      "include_colab_link": true
    },
    "kernelspec": {
      "name": "python3",
      "display_name": "Python 3"
    },
    "accelerator": "GPU"
  },
  "cells": [
    {
      "cell_type": "markdown",
      "metadata": {
        "id": "view-in-github",
        "colab_type": "text"
      },
      "source": [
        "<a href=\"https://colab.research.google.com/github/NARAYANAREDDY37/Basic-Chatbot/blob/main/Basic_chatbot_using_trained_conversations.ipynb\" target=\"_parent\"><img src=\"https://colab.research.google.com/assets/colab-badge.svg\" alt=\"Open In Colab\"/></a>"
      ]
    },
    {
      "cell_type": "code",
      "metadata": {
        "colab": {
          "base_uri": "https://localhost:8080/"
        },
        "id": "OIMJ6P-i5GhL",
        "outputId": "33b2e4bf-5a29-4f73-cf37-30661ba1d0b7"
      },
      "source": [
        "!pip install ChatterBot\n",
        "!pip install chatterbot-corpus"
      ],
      "execution_count": 2,
      "outputs": [
        {
          "output_type": "stream",
          "text": [
            "Collecting ChatterBot\n",
            "\u001b[?25l  Downloading https://files.pythonhosted.org/packages/7c/21/85c2b114bd9dfabdd46ba58fc4519acdaed45d8c70898d40079e37a45e67/ChatterBot-1.0.8-py2.py3-none-any.whl (63kB)\n",
            "\r\u001b[K     |█████▏                          | 10kB 27.0MB/s eta 0:00:01\r\u001b[K     |██████████▎                     | 20kB 31.5MB/s eta 0:00:01\r\u001b[K     |███████████████▌                | 30kB 23.0MB/s eta 0:00:01\r\u001b[K     |████████████████████▋           | 40kB 18.4MB/s eta 0:00:01\r\u001b[K     |█████████████████████████▊      | 51kB 13.8MB/s eta 0:00:01\r\u001b[K     |███████████████████████████████ | 61kB 14.6MB/s eta 0:00:01\r\u001b[K     |████████████████████████████████| 71kB 7.5MB/s \n",
            "\u001b[?25hRequirement already satisfied: sqlalchemy<1.4,>=1.3 in /usr/local/lib/python3.6/dist-packages (from ChatterBot) (1.3.20)\n",
            "Collecting mathparse<0.2,>=0.1\n",
            "  Downloading https://files.pythonhosted.org/packages/c3/e5/4910fb85950cb960fcf3f5aabe1c8e55f5c9201788a1c1302b570a7e1f84/mathparse-0.1.2-py3-none-any.whl\n",
            "Requirement already satisfied: python-dateutil<2.9,>=2.8 in /usr/local/lib/python3.6/dist-packages (from ChatterBot) (2.8.1)\n",
            "Requirement already satisfied: pytz in /usr/local/lib/python3.6/dist-packages (from ChatterBot) (2018.9)\n",
            "Requirement already satisfied: six>=1.5 in /usr/local/lib/python3.6/dist-packages (from python-dateutil<2.9,>=2.8->ChatterBot) (1.15.0)\n",
            "Installing collected packages: mathparse, ChatterBot\n",
            "Successfully installed ChatterBot-1.0.8 mathparse-0.1.2\n",
            "Collecting chatterbot-corpus\n",
            "\u001b[?25l  Downloading https://files.pythonhosted.org/packages/ed/19/f8b41daf36fe4b0f43e283a820362ffdb2c1128600ab4ee187e84262fa4d/chatterbot_corpus-1.2.0-py2.py3-none-any.whl (117kB)\n",
            "\u001b[K     |████████████████████████████████| 122kB 14.1MB/s \n",
            "\u001b[?25hRequirement already satisfied: PyYAML<4.0,>=3.12 in /usr/local/lib/python3.6/dist-packages (from chatterbot-corpus) (3.13)\n",
            "Installing collected packages: chatterbot-corpus\n",
            "Successfully installed chatterbot-corpus-1.2.0\n"
          ],
          "name": "stdout"
        }
      ]
    },
    {
      "cell_type": "code",
      "metadata": {
        "id": "ZtlSvs0B71AA"
      },
      "source": [
        "from chatterbot import ChatBot \n",
        "from chatterbot.trainers import ChatterBotCorpusTrainer "
      ],
      "execution_count": 4,
      "outputs": []
    },
    {
      "cell_type": "code",
      "metadata": {
        "colab": {
          "base_uri": "https://localhost:8080/"
        },
        "id": "fiCat28U7P1w",
        "outputId": "3fc447dc-6d49-464f-bdf0-d77378cbc8bc"
      },
      "source": [
        "bot = ChatBot('JteX')\n",
        " \n",
        "trainer = ChatterBotCorpusTrainer(bot)\n",
        " \n",
        "trainer.train(\n",
        "    \"chatterbot.corpus.english\"\n",
        ")\n",
        " \n",
        "print('Hi, and welcome! ask me something!\\n')\n",
        " \n",
        "while True:\n",
        "  inp = input('\\nYou:')\n",
        "  if inp =='done':\n",
        "    break\n",
        "  else:\n",
        "    response = bot.get_response(inp)\n",
        "    print('\\n\\n\\t\\t\\tBot:',response)"
      ],
      "execution_count": 6,
      "outputs": [
        {
          "output_type": "stream",
          "text": [
            "Training ai.yml: [####################] 100%\n",
            "Training botprofile.yml: [####################] 100%\n",
            "Training computers.yml: [####################] 100%\n",
            "Training conversations.yml: [####################] 100%\n",
            "Training emotion.yml: [####################] 100%\n",
            "Training food.yml: [####################] 100%\n",
            "Training gossip.yml: [####################] 100%\n",
            "Training greetings.yml: [####################] 100%\n",
            "Training health.yml: [####################] 100%\n",
            "Training history.yml: [####################] 100%\n",
            "Training humor.yml: [####################] 100%\n",
            "Training literature.yml: [####################] 100%\n",
            "Training money.yml: [####################] 100%\n",
            "Training movies.yml: [####################] 100%\n",
            "Training politics.yml: [####################] 100%\n",
            "Training psychology.yml: [####################] 100%\n",
            "Training science.yml: [####################] 100%\n",
            "Training sports.yml: [####################] 100%\n",
            "Training trivia.yml: [####################] 100%\n",
            "Hi, and welcome! ask me something!\n",
            "\n",
            "\n",
            "You:hi\n",
            "\n",
            "\n",
            "\t\t\tBot: How are you doing?\n",
            "\n",
            "You:iam doing great\n",
            "\n",
            "\n",
            "\t\t\tBot: i feel like that myself sometimes.\n",
            "\n",
            "You:ohh\n",
            "\n",
            "\n",
            "\t\t\tBot: Good morning, how are you?\n",
            "\n",
            "You:i am good\n",
            "\n",
            "\n",
            "\t\t\tBot: Artificial Intelligence is the branch of engineering and science devoted to constructing machines that think.\n",
            "\n",
            "You:done\n"
          ],
          "name": "stdout"
        }
      ]
    }
  ]
}