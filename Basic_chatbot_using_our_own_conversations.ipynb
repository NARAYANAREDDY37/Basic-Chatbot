{
  "nbformat": 4,
  "nbformat_minor": 0,
  "metadata": {
    "colab": {
      "name": "Basic chatbot using our own conversations.ipynb",
      "provenance": [],
      "collapsed_sections": [],
      "authorship_tag": "ABX9TyOzofi2FSH4CdUuyR9MBGXr",
      "include_colab_link": true
    },
    "kernelspec": {
      "name": "python3",
      "display_name": "Python 3"
    },
    "accelerator": "GPU"
  },
  "cells": [
    {
      "cell_type": "markdown",
      "metadata": {
        "id": "view-in-github",
        "colab_type": "text"
      },
      "source": [
        "<a href=\"https://colab.research.google.com/github/NARAYANAREDDY37/Basic-Chatbot/blob/main/Basic_chatbot_using_our_own_conversations.ipynb\" target=\"_parent\"><img src=\"https://colab.research.google.com/assets/colab-badge.svg\" alt=\"Open In Colab\"/></a>"
      ]
    },
    {
      "cell_type": "code",
      "metadata": {
        "colab": {
          "base_uri": "https://localhost:8080/"
        },
        "id": "d6zAvA7c9PxE",
        "outputId": "06cd40f3-1d93-44fc-e661-92398b0cadd0"
      },
      "source": [
        "!pip install ChatterBot\n",
        "!pip install chatterbot-corpus"
      ],
      "execution_count": 1,
      "outputs": [
        {
          "output_type": "stream",
          "text": [
            "Collecting ChatterBot\n",
            "\u001b[?25l  Downloading https://files.pythonhosted.org/packages/7c/21/85c2b114bd9dfabdd46ba58fc4519acdaed45d8c70898d40079e37a45e67/ChatterBot-1.0.8-py2.py3-none-any.whl (63kB)\n",
            "\r\u001b[K     |█████▏                          | 10kB 22.1MB/s eta 0:00:01\r\u001b[K     |██████████▎                     | 20kB 28.2MB/s eta 0:00:01\r\u001b[K     |███████████████▌                | 30kB 33.7MB/s eta 0:00:01\r\u001b[K     |████████████████████▋           | 40kB 35.5MB/s eta 0:00:01\r\u001b[K     |█████████████████████████▊      | 51kB 37.1MB/s eta 0:00:01\r\u001b[K     |███████████████████████████████ | 61kB 38.0MB/s eta 0:00:01\r\u001b[K     |████████████████████████████████| 71kB 10.2MB/s \n",
            "\u001b[?25hRequirement already satisfied: sqlalchemy<1.4,>=1.3 in /usr/local/lib/python3.6/dist-packages (from ChatterBot) (1.3.20)\n",
            "Requirement already satisfied: pytz in /usr/local/lib/python3.6/dist-packages (from ChatterBot) (2018.9)\n",
            "Collecting mathparse<0.2,>=0.1\n",
            "  Downloading https://files.pythonhosted.org/packages/c3/e5/4910fb85950cb960fcf3f5aabe1c8e55f5c9201788a1c1302b570a7e1f84/mathparse-0.1.2-py3-none-any.whl\n",
            "Requirement already satisfied: python-dateutil<2.9,>=2.8 in /usr/local/lib/python3.6/dist-packages (from ChatterBot) (2.8.1)\n",
            "Requirement already satisfied: six>=1.5 in /usr/local/lib/python3.6/dist-packages (from python-dateutil<2.9,>=2.8->ChatterBot) (1.15.0)\n",
            "Installing collected packages: mathparse, ChatterBot\n",
            "Successfully installed ChatterBot-1.0.8 mathparse-0.1.2\n",
            "Collecting chatterbot-corpus\n",
            "\u001b[?25l  Downloading https://files.pythonhosted.org/packages/ed/19/f8b41daf36fe4b0f43e283a820362ffdb2c1128600ab4ee187e84262fa4d/chatterbot_corpus-1.2.0-py2.py3-none-any.whl (117kB)\n",
            "\u001b[K     |████████████████████████████████| 122kB 14.3MB/s \n",
            "\u001b[?25hRequirement already satisfied: PyYAML<4.0,>=3.12 in /usr/local/lib/python3.6/dist-packages (from chatterbot-corpus) (3.13)\n",
            "Installing collected packages: chatterbot-corpus\n",
            "Successfully installed chatterbot-corpus-1.2.0\n"
          ],
          "name": "stdout"
        }
      ]
    },
    {
      "cell_type": "code",
      "metadata": {
        "id": "XCU7zFuG9i-z"
      },
      "source": [
        "from chatterbot import ChatBot\n",
        "from chatterbot.trainers import ListTrainer"
      ],
      "execution_count": 2,
      "outputs": []
    },
    {
      "cell_type": "code",
      "metadata": {
        "id": "1S2_ihOZ9mnY"
      },
      "source": [
        "bot = ChatBot('DeepMind')\n",
        "\n",
        "conversation =[\n",
        "    'hi',\n",
        "    'Hi, there',\n",
        "    'welcome to DeepMind',\n",
        "    'who is Narayana reddy?',\n",
        "    'Narayana reddy is the creater of DeepMind',\n",
        "    'bye',\n",
        "    'thank you','welcome','Please know about our DeepMind project',\n",
        "    \n",
        "]"
      ],
      "execution_count": 3,
      "outputs": []
    },
    {
      "cell_type": "code",
      "metadata": {
        "colab": {
          "base_uri": "https://localhost:8080/"
        },
        "id": "vWsk51P--qiY",
        "outputId": "0a1e8ea0-56c2-423b-9f98-43cdec08d858"
      },
      "source": [
        "training = ListTrainer(bot)\n",
        "training.train(conversation)"
      ],
      "execution_count": 4,
      "outputs": [
        {
          "output_type": "stream",
          "text": [
            "List Trainer: [####################] 100%\n"
          ],
          "name": "stdout"
        }
      ]
    },
    {
      "cell_type": "code",
      "metadata": {
        "colab": {
          "base_uri": "https://localhost:8080/"
        },
        "id": "avuL9JoH-te9",
        "outputId": "e52064fb-f58b-4601-e3ee-d81f38c2ac45"
      },
      "source": [
        "print('Hi, and welcome! ask me something!\\n')\n",
        "while True:\n",
        "  inp = input('\\nYou:')\n",
        "  if inp =='done':\n",
        "    break\n",
        "  else:\n",
        "    response = bot.get_response(inp)\n",
        "    print('\\n\\n\\t\\t\\tBot:',response)"
      ],
      "execution_count": 5,
      "outputs": [
        {
          "output_type": "stream",
          "text": [
            "Hi, and welcome! ask me something!\n",
            "\n",
            "\n",
            "You:hi\n",
            "\n",
            "\n",
            "\t\t\tBot: Hi, there\n",
            "\n",
            "You:welcome to deepmind\n",
            "\n",
            "\n",
            "\t\t\tBot: who is Narayana reddy?\n",
            "\n",
            "You:who is narayana reddy?\n",
            "\n",
            "\n",
            "\t\t\tBot: who is Narayana reddy?\n",
            "\n",
            "You:who is Narayana reddy?\n",
            "\n",
            "\n",
            "\t\t\tBot: Narayana reddy is the creater of DeepMind\n",
            "\n",
            "You:bye\n",
            "\n",
            "\n",
            "\t\t\tBot: thank you\n",
            "\n",
            "You:done\n"
          ],
          "name": "stdout"
        }
      ]
    }
  ]
}